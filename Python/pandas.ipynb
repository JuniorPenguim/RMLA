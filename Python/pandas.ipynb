{
  "metadata": {
    "kernelspec": {
      "display_name": "Pyolite",
      "language": "python",
      "name": "python"
    },
    "language_info": {
      "codemirror_mode": {
        "name": "python",
        "version": 3
      },
      "file_extension": ".py",
      "mimetype": "text/x-python",
      "name": "python",
      "nbconvert_exporter": "python",
      "pygments_lexer": "ipython3",
      "version": "3.8"
    }
  },
  "nbformat_minor": 5,
  "nbformat": 4,
  "cells": [
    {
      "cell_type": "code",
      "source": "import pandas as pd\narquivo = pd.read_excel('‪C:/Users/pr216853/Desktop/teste.xls') #função do pandas para ler excel",
      "metadata": {},
      "execution_count": null,
      "outputs": [],
      "id": "e883440d-3a09-42d3-b28f-f883d7d094f8"
    },
    {
      "cell_type": "code",
      "source": "#função do pandas para abrir os dados em tabela\narquivo.head() #padrão as primeiras 5 linhas",
      "metadata": {},
      "execution_count": null,
      "outputs": [],
      "id": "3d5c3601-0914-42ea-be63-a60a813a1334"
    },
    {
      "cell_type": "code",
      "source": "arquivo_csv = pd.read_csv(‪'C:/Users/pr216853/Desktop/teste.csv') #função do pandas para ler csv",
      "metadata": {},
      "execution_count": null,
      "outputs": [],
      "id": "58d6ed82-1ae3-45b2-8bf4-ad81768af8ae"
    },
    {
      "cell_type": "code",
      "source": "arquivo_csv.head()",
      "metadata": {},
      "execution_count": null,
      "outputs": [],
      "id": "d2d84db6-7ef0-4f21-89ae-23b62585f609"
    },
    {
      "cell_type": "code",
      "source": "",
      "metadata": {},
      "execution_count": null,
      "outputs": [],
      "id": "6e5942df-6b20-4ba6-a46c-a2cc9026dbd4"
    }
  ]
}