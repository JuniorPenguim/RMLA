{
 "cells": [
  {
   "cell_type": "code",
   "execution_count": 12,
   "id": "68cfdb6e",
   "metadata": {},
   "outputs": [],
   "source": [
    "import pandas as pd\n",
    "dados = pd.read_csv('C:/Users/pr216853/Downloads/teste.csv')"
   ]
  },
  {
   "cell_type": "code",
   "execution_count": 13,
   "id": "209da36b",
   "metadata": {},
   "outputs": [
    {
     "data": {
      "text/html": [
       "<div>\n",
       "<style scoped>\n",
       "    .dataframe tbody tr th:only-of-type {\n",
       "        vertical-align: middle;\n",
       "    }\n",
       "\n",
       "    .dataframe tbody tr th {\n",
       "        vertical-align: top;\n",
       "    }\n",
       "\n",
       "    .dataframe thead th {\n",
       "        text-align: right;\n",
       "    }\n",
       "</style>\n",
       "<table border=\"1\" class=\"dataframe\">\n",
       "  <thead>\n",
       "    <tr style=\"text-align: right;\">\n",
       "      <th></th>\n",
       "      <th>Registro</th>\n",
       "      <th>Nome</th>\n",
       "      <th>Cargo/Função</th>\n",
       "      <th>Vínculo</th>\n",
       "      <th>Situação</th>\n",
       "      <th>Lotação</th>\n",
       "      <th>Remun. Bruta (R$)</th>\n",
       "      <th>Total de Descontos (R$)</th>\n",
       "      <th>Remun. Líquida (R$)</th>\n",
       "    </tr>\n",
       "  </thead>\n",
       "  <tbody>\n",
       "    <tr>\n",
       "      <th>0</th>\n",
       "      <td>39-8</td>\n",
       "      <td>CARLOS ALBERTO PRATES COSTA</td>\n",
       "      <td>ARQUITETO SR</td>\n",
       "      <td>Efetivo</td>\n",
       "      <td>Ativo</td>\n",
       "      <td>DEURB-Departamento de Arquitetura e Urbanismo</td>\n",
       "      <td>15785</td>\n",
       "      <td>4090</td>\n",
       "      <td>11696</td>\n",
       "    </tr>\n",
       "    <tr>\n",
       "      <th>1</th>\n",
       "      <td>184-2</td>\n",
       "      <td>HELIO SUMIYASU</td>\n",
       "      <td>ECONOMISTA SR</td>\n",
       "      <td>Efetivo</td>\n",
       "      <td>Ativo</td>\n",
       "      <td>DRH-Departamento de Recursos Humanos</td>\n",
       "      <td>14988</td>\n",
       "      <td>3887</td>\n",
       "      <td>11101</td>\n",
       "    </tr>\n",
       "    <tr>\n",
       "      <th>2</th>\n",
       "      <td>725-2</td>\n",
       "      <td>OSMAR DE GOUVEIA LOPES</td>\n",
       "      <td>ANAL.DE SIST.SR</td>\n",
       "      <td>Efetivo</td>\n",
       "      <td>Ativo</td>\n",
       "      <td>DINF-PMS-Serviço de Tecnologia de Informação e...</td>\n",
       "      <td>17391</td>\n",
       "      <td>4534</td>\n",
       "      <td>12857</td>\n",
       "    </tr>\n",
       "    <tr>\n",
       "      <th>3</th>\n",
       "      <td>1319-3</td>\n",
       "      <td>ALVARO DOS SANTOS SILVEIRA FILHO</td>\n",
       "      <td>ECONOMISTA SR</td>\n",
       "      <td>Efetivo</td>\n",
       "      <td>Ativo</td>\n",
       "      <td>APOIO-PMS-DISP-Func.à Disposição da PMS</td>\n",
       "      <td>12435</td>\n",
       "      <td>3157</td>\n",
       "      <td>9277</td>\n",
       "    </tr>\n",
       "    <tr>\n",
       "      <th>4</th>\n",
       "      <td>2781-3</td>\n",
       "      <td>ANGELA MARIA RAFAEL</td>\n",
       "      <td>ASSIST.ADMIN.</td>\n",
       "      <td>Efetivo</td>\n",
       "      <td>Ativo</td>\n",
       "      <td>APOIO-PMS-DISP-Func.à Disposição da PMS</td>\n",
       "      <td>5989</td>\n",
       "      <td>1470</td>\n",
       "      <td>4519</td>\n",
       "    </tr>\n",
       "  </tbody>\n",
       "</table>\n",
       "</div>"
      ],
      "text/plain": [
       "  Registro                              Nome     Cargo/Função  Vínculo  \\\n",
       "0     39-8       CARLOS ALBERTO PRATES COSTA     ARQUITETO SR  Efetivo   \n",
       "1    184-2                    HELIO SUMIYASU    ECONOMISTA SR  Efetivo   \n",
       "2    725-2            OSMAR DE GOUVEIA LOPES  ANAL.DE SIST.SR  Efetivo   \n",
       "3   1319-3  ALVARO DOS SANTOS SILVEIRA FILHO    ECONOMISTA SR  Efetivo   \n",
       "4   2781-3               ANGELA MARIA RAFAEL    ASSIST.ADMIN.  Efetivo   \n",
       "\n",
       "  Situação                                            Lotação  \\\n",
       "0    Ativo      DEURB-Departamento de Arquitetura e Urbanismo   \n",
       "1    Ativo               DRH-Departamento de Recursos Humanos   \n",
       "2    Ativo  DINF-PMS-Serviço de Tecnologia de Informação e...   \n",
       "3    Ativo            APOIO-PMS-DISP-Func.à Disposição da PMS   \n",
       "4    Ativo            APOIO-PMS-DISP-Func.à Disposição da PMS   \n",
       "\n",
       "   Remun. Bruta (R$)  Total de Descontos (R$)  Remun. Líquida (R$)  \n",
       "0              15785                     4090                11696  \n",
       "1              14988                     3887                11101  \n",
       "2              17391                     4534                12857  \n",
       "3              12435                     3157                 9277  \n",
       "4               5989                     1470                 4519  "
      ]
     },
     "execution_count": 13,
     "metadata": {},
     "output_type": "execute_result"
    }
   ],
   "source": [
    "dados.head()"
   ]
  },
  {
   "cell_type": "code",
   "execution_count": 15,
   "id": "302f709e",
   "metadata": {},
   "outputs": [
    {
     "data": {
      "image/png": "[encoded data removed]",
      "text/plain": [
       "<Figure size 432x288 with 1 Axes>"
      ]
     },
     "metadata": {
      "needs_background": "light"
     },
     "output_type": "display_data"
    }
   ],
   "source": [
    "import matplotlib.pyplot as plt\n",
    "\n",
    "#função do pandas para criar grático boxplot\n",
    "dados.boxplot(column= ['Remun. Bruta (R$)', 'Total de Descontos (R$)', 'Remun. Líquida (R$)'])\n",
    "\n",
    "\n",
    "plt.show()"
   ]
  },
  {
   "cell_type": "code",
   "execution_count": null,
   "id": "7479d9ba",
   "metadata": {},
   "outputs": [],
   "source": []
  }
 ],
 "metadata": {
  "kernelspec": {
   "display_name": "Python 3 (ipykernel)",
   "language": "python",
   "name": "python3"
  },
  "language_info": {
   "codemirror_mode": {
    "name": "ipython",
    "version": 3
   },
   "file_extension": ".py",
   "mimetype": "text/x-python",
   "name": "python",
   "nbconvert_exporter": "python",
   "pygments_lexer": "ipython3",
   "version": "3.9.12"
  }
 },
 "nbformat": 4,
 "nbformat_minor": 5
}
