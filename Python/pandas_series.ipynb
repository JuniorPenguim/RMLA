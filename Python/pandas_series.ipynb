{
 "cells": [
  {
   "cell_type": "code",
   "execution_count": 2,
   "id": "eb6ec309",
   "metadata": {},
   "outputs": [],
   "source": [
    "import pandas as pd\n",
    "alunos = {'Nome': ['Fabio', 'Ana', 'Rob', 'Karim'],\n",
    "        'Nota': [1, 2, 3, 4.5],\n",
    "        'Situação': ['Sim', 'Sim', 'Não', 'Sim']} #dicionário"
   ]
  },
  {
   "cell_type": "code",
   "execution_count": 3,
   "id": "0f1dcb13",
   "metadata": {},
   "outputs": [],
   "source": [
    "#função dataframe recebendo um dicionário\n",
    "dataframe = pd.DataFrame(alunos)"
   ]
  },
  {
   "cell_type": "code",
   "execution_count": 4,
   "id": "8d4d5a51",
   "metadata": {},
   "outputs": [
    {
     "name": "stdout",
     "output_type": "stream",
     "text": [
      "    Nome  Nota Situação\n",
      "0  Fabio   1.0      Sim\n",
      "1    Ana   2.0      Sim\n",
      "2    Rob   3.0      Não\n",
      "3  Karim   4.5      Sim\n"
     ]
    }
   ],
   "source": [
    "print(dataframe)"
   ]
  },
  {
   "cell_type": "code",
   "execution_count": 5,
   "id": "61a26d8a",
   "metadata": {},
   "outputs": [
    {
     "name": "stdout",
     "output_type": "stream",
     "text": [
      "0    10\n",
      "1     9\n",
      "2     8\n",
      "3     7\n",
      "4     6\n",
      "dtype: int64\n"
     ]
    }
   ],
   "source": [
    "#função série do pandas do tipo 1-dimensional\n",
    "objeto1 = pd.Series([10, 9, 8, 7, 6])\n",
    "print(objeto1)"
   ]
  },
  {
   "cell_type": "code",
   "execution_count": 9,
   "id": "d5233585",
   "metadata": {},
   "outputs": [
    {
     "name": "stdout",
     "output_type": "stream",
     "text": [
      "[[10  9  8  7  6]\n",
      " [ 1  2  3  4  5]]\n",
      "[10  9  8  7  6]\n"
     ]
    }
   ],
   "source": [
    "import numpy as np\n",
    "array = np.array([(10, 9, 8, 7, 6), (1, 2, 3, 4, 5)])\n",
    "array2 = np.array([10, 9, 8, 7, 6])\n",
    "print(array)\n",
    "print(array2)"
   ]
  },
  {
   "cell_type": "code",
   "execution_count": 13,
   "id": "d55c1f1c",
   "metadata": {},
   "outputs": [
    {
     "name": "stdout",
     "output_type": "stream",
     "text": [
      "0    10\n",
      "1     9\n",
      "2     8\n",
      "3     7\n",
      "4     6\n",
      "dtype: int32\n"
     ]
    }
   ],
   "source": [
    "#função séries não pode transformar elementos que não sejam 1-dimensionais\n",
    "objeto2 = pd.Series(array2)\n",
    "print(objeto2)"
   ]
  },
  {
   "cell_type": "code",
   "execution_count": null,
   "id": "7b3568d6",
   "metadata": {},
   "outputs": [],
   "source": []
  }
 ],
 "metadata": {
  "kernelspec": {
   "display_name": "Python 3 (ipykernel)",
   "language": "python",
   "name": "python3"
  },
  "language_info": {
   "codemirror_mode": {
    "name": "ipython",
    "version": 3
   },
   "file_extension": ".py",
   "mimetype": "text/x-python",
   "name": "python",
   "nbconvert_exporter": "python",
   "pygments_lexer": "ipython3",
   "version": "3.9.12"
  }
 },
 "nbformat": 4,
 "nbformat_minor": 5
}
