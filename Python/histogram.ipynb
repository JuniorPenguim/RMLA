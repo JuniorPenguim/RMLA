{
 "cells": [
  {
   "cell_type": "code",
   "execution_count": 14,
   "id": "68cfdb6e",
   "metadata": {},
   "outputs": [],
   "source": [
    "import pandas as pd\n",
    "dados = pd.read_csv('C:/Users/pr216853/Downloads/efetivos.csv')"
   ]
  },
  {
   "cell_type": "code",
   "execution_count": 15,
   "id": "209da36b",
   "metadata": {},
   "outputs": [
    {
     "data": {
      "text/html": [
       "<div>\n",
       "<style scoped>\n",
       "    .dataframe tbody tr th:only-of-type {\n",
       "        vertical-align: middle;\n",
       "    }\n",
       "\n",
       "    .dataframe tbody tr th {\n",
       "        vertical-align: top;\n",
       "    }\n",
       "\n",
       "    .dataframe thead th {\n",
       "        text-align: right;\n",
       "    }\n",
       "</style>\n",
       "<table border=\"1\" class=\"dataframe\">\n",
       "  <thead>\n",
       "    <tr style=\"text-align: right;\">\n",
       "      <th></th>\n",
       "      <th>Registro</th>\n",
       "      <th>Nome</th>\n",
       "      <th>Cargo/Função</th>\n",
       "      <th>Carga Horária</th>\n",
       "      <th>Lotação</th>\n",
       "      <th>Data de Admissão</th>\n",
       "      <th>Estável (S/N)</th>\n",
       "      <th>Documento de Contratação</th>\n",
       "    </tr>\n",
       "  </thead>\n",
       "  <tbody>\n",
       "    <tr>\n",
       "      <th>0</th>\n",
       "      <td>21702-6</td>\n",
       "      <td>MARCEL ALBERTINI TOLEDO DE PAULA</td>\n",
       "      <td>FISCAL DE LIMP.</td>\n",
       "      <td>220</td>\n",
       "      <td>DEOP-OP-SMS</td>\n",
       "      <td>01/07/2020</td>\n",
       "      <td>Não</td>\n",
       "      <td>NaN</td>\n",
       "    </tr>\n",
       "    <tr>\n",
       "      <th>1</th>\n",
       "      <td>21703-4</td>\n",
       "      <td>CLEBER DA SILVA SANTOS</td>\n",
       "      <td>AUXILIAR DE LIMPEZA</td>\n",
       "      <td>220</td>\n",
       "      <td>DEOP-OP-PAÇO</td>\n",
       "      <td>29/06/2020</td>\n",
       "      <td>Não</td>\n",
       "      <td>NaN</td>\n",
       "    </tr>\n",
       "    <tr>\n",
       "      <th>2</th>\n",
       "      <td>21692-9</td>\n",
       "      <td>ADRIANA ESTELA BERNARDINO</td>\n",
       "      <td>AUXILIAR DE LIMPEZA</td>\n",
       "      <td>220</td>\n",
       "      <td>DEOP-OP-PAÇO</td>\n",
       "      <td>29/06/2020</td>\n",
       "      <td>Não</td>\n",
       "      <td>NaN</td>\n",
       "    </tr>\n",
       "    <tr>\n",
       "      <th>3</th>\n",
       "      <td>21699-4</td>\n",
       "      <td>MARILENE SERQUEIRA DIAS</td>\n",
       "      <td>AUXILIAR DE LIMPEZA</td>\n",
       "      <td>180</td>\n",
       "      <td>DEOP-OP-SMS</td>\n",
       "      <td>29/06/2020</td>\n",
       "      <td>Não</td>\n",
       "      <td>NaN</td>\n",
       "    </tr>\n",
       "    <tr>\n",
       "      <th>4</th>\n",
       "      <td>21697-8</td>\n",
       "      <td>JESSICA AUGUSTO DA SILVA</td>\n",
       "      <td>AUXILIAR DE LIMPEZA</td>\n",
       "      <td>220</td>\n",
       "      <td>DEOP-OP-PAÇO</td>\n",
       "      <td>24/06/2020</td>\n",
       "      <td>Não</td>\n",
       "      <td>NaN</td>\n",
       "    </tr>\n",
       "  </tbody>\n",
       "</table>\n",
       "</div>"
      ],
      "text/plain": [
       "  Registro                              Nome         Cargo/Função  \\\n",
       "0  21702-6  MARCEL ALBERTINI TOLEDO DE PAULA      FISCAL DE LIMP.   \n",
       "1  21703-4            CLEBER DA SILVA SANTOS  AUXILIAR DE LIMPEZA   \n",
       "2  21692-9         ADRIANA ESTELA BERNARDINO  AUXILIAR DE LIMPEZA   \n",
       "3  21699-4           MARILENE SERQUEIRA DIAS  AUXILIAR DE LIMPEZA   \n",
       "4  21697-8          JESSICA AUGUSTO DA SILVA  AUXILIAR DE LIMPEZA   \n",
       "\n",
       "   Carga Horária       Lotação Data de Admissão Estável (S/N)  \\\n",
       "0            220   DEOP-OP-SMS       01/07/2020           Não   \n",
       "1            220  DEOP-OP-PAÇO       29/06/2020           Não   \n",
       "2            220  DEOP-OP-PAÇO       29/06/2020           Não   \n",
       "3            180   DEOP-OP-SMS       29/06/2020           Não   \n",
       "4            220  DEOP-OP-PAÇO       24/06/2020           Não   \n",
       "\n",
       "   Documento de Contratação  \n",
       "0                       NaN  \n",
       "1                       NaN  \n",
       "2                       NaN  \n",
       "3                       NaN  \n",
       "4                       NaN  "
      ]
     },
     "execution_count": 15,
     "metadata": {},
     "output_type": "execute_result"
    }
   ],
   "source": [
    "dados.head()"
   ]
  },
  {
   "cell_type": "code",
   "execution_count": 29,
   "id": "16fe573b",
   "metadata": {},
   "outputs": [
    {
     "data": {
      "image/png": "[encoded data removed]",
      "text/plain": [
       "<Figure size 432x288 with 1 Axes>"
      ]
     },
     "metadata": {
      "needs_background": "light"
     },
     "output_type": "display_data"
    }
   ],
   "source": [
    "#biblioteca para plots de gráficos\n",
    "import matplotlib.pyplot as plt\n",
    "\n",
    "dados.hist(column = 'Carga Horária', bins = 100) #criando histograma com pandas\n",
    "plt.show()"
   ]
  },
  {
   "cell_type": "code",
   "execution_count": null,
   "id": "302f709e",
   "metadata": {},
   "outputs": [],
   "source": []
  }
 ],
 "metadata": {
  "kernelspec": {
   "display_name": "Python 3 (ipykernel)",
   "language": "python",
   "name": "python3"
  },
  "language_info": {
   "codemirror_mode": {
    "name": "ipython",
    "version": 3
   },
   "file_extension": ".py",
   "mimetype": "text/x-python",
   "name": "python",
   "nbconvert_exporter": "python",
   "pygments_lexer": "ipython3",
   "version": "3.9.12"
  }
 },
 "nbformat": 4,
 "nbformat_minor": 5
}
