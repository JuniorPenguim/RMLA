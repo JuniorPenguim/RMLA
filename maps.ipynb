{
  "metadata": {
    "kernelspec": {
      "display_name": "Pyolite",
      "language": "python",
      "name": "python"
    },
    "language_info": {
      "codemirror_mode": {
        "name": "python",
        "version": 3
      },
      "file_extension": ".py",
      "mimetype": "text/x-python",
      "name": "python",
      "nbconvert_exporter": "python",
      "pygments_lexer": "ipython3",
      "version": "3.8"
    }
  },
  "nbformat_minor": 5,
  "nbformat": 4,
  "cells": [
    {
      "cell_type": "code",
      "source": "kph = [10, 20, 30, 40, 50, 60, 70, 80]",
      "metadata": {
        "trusted": true
      },
      "execution_count": 2,
      "outputs": [],
      "id": "90a99d12-6522-4b55-9795-8962c264ff62"
    },
    {
      "cell_type": "code",
      "source": "mph = []\n\nfor i in kph:\n    mph.append(i / 1.61)\n    \nprint(mph)",
      "metadata": {
        "trusted": true
      },
      "execution_count": 3,
      "outputs": [
        {
          "name": "stdout",
          "text": "[6.211180124223602, 12.422360248447204, 18.633540372670808, 24.844720496894407, 31.05590062111801, 37.267080745341616, 43.47826086956521, 49.689440993788814]\n",
          "output_type": "stream"
        }
      ],
      "id": "23a8d653-29fc-48fb-827c-895ab0f93de5"
    },
    {
      "cell_type": "code",
      "source": "#função map para executar uma função em cima de um conjunto de elementos de uma vez só\n\n#map precisa ser convertida para um formato\n\nmilesph = list(map(lambda x: x/1.61, kph))\nprint(milesph)",
      "metadata": {
        "trusted": true
      },
      "execution_count": 5,
      "outputs": [
        {
          "name": "stdout",
          "text": "[6.211180124223602, 12.422360248447204, 18.633540372670808, 24.844720496894407, 31.05590062111801, 37.267080745341616, 43.47826086956521, 49.689440993788814]\n",
          "output_type": "stream"
        }
      ],
      "id": "32b8d9d4-e965-4329-8e16-b5bd6fb855e9"
    },
    {
      "cell_type": "code",
      "source": "",
      "metadata": {},
      "execution_count": null,
      "outputs": [],
      "id": "6f8aeb98-a70f-444b-9e21-2918690a4eff"
    },
    {
      "cell_type": "code",
      "source": "",
      "metadata": {},
      "execution_count": null,
      "outputs": [],
      "id": "c0ad546f-0203-45e2-8ec4-072cd8717cc2"
    },
    {
      "cell_type": "code",
      "source": "",
      "metadata": {},
      "execution_count": null,
      "outputs": [],
      "id": "5d7b8e4b-d2d3-4dc4-a23a-50eca1e22b23"
    }
  ]
}