{
  "metadata": {
    "kernelspec": {
      "display_name": "Pyolite",
      "language": "python",
      "name": "python"
    },
    "language_info": {
      "codemirror_mode": {
        "name": "python",
        "version": 3
      },
      "file_extension": ".py",
      "mimetype": "text/x-python",
      "name": "python",
      "nbconvert_exporter": "python",
      "pygments_lexer": "ipython3",
      "version": "3.8"
    }
  },
  "nbformat_minor": 5,
  "nbformat": 4,
  "cells": [
    {
      "cell_type": "code",
      "source": "import numpy as np",
      "metadata": {
        "trusted": true
      },
      "execution_count": 12,
      "outputs": [],
      "id": "e2747a7c-662c-44df-89d0-50cfefb93afb"
    },
    {
      "cell_type": "code",
      "source": "a = np.array([1,2,3]) #arra só permite elementos do mesmo tipo",
      "metadata": {
        "trusted": true
      },
      "execution_count": 8,
      "outputs": [],
      "id": "143b8471-7fb5-4aa2-b28d-95060a123c9b"
    },
    {
      "cell_type": "code",
      "source": "print(a)",
      "metadata": {
        "trusted": true
      },
      "execution_count": 9,
      "outputs": [
        {
          "name": "stdout",
          "text": "[1 2 3]\n",
          "output_type": "stream"
        }
      ],
      "id": "73e91ec0-035e-4fd6-843f-9f506c511d9c"
    },
    {
      "cell_type": "code",
      "source": "# estrutura de matriz \nb = np.array([(1,2,3),(4,5,6)])",
      "metadata": {
        "trusted": true
      },
      "execution_count": 16,
      "outputs": [],
      "id": "34ebd0b2-9f3b-47e7-91a8-7853610bb921"
    },
    {
      "cell_type": "code",
      "source": "print(b)",
      "metadata": {
        "trusted": true
      },
      "execution_count": 14,
      "outputs": [
        {
          "name": "stdout",
          "text": "[[1 2 3]\n [4 5 6]]\n",
          "output_type": "stream"
        }
      ],
      "id": "79e912c7-4f5d-4b9a-93f2-0e2496f9008e"
    },
    {
      "cell_type": "code",
      "source": "#função numpy para criar matriz de zeros e um's\n\nc = np.zeros((2,2)) #dimensionando matriz de zeros\nd = np.ones((3,3))",
      "metadata": {
        "trusted": true
      },
      "execution_count": 21,
      "outputs": [],
      "id": "0e2c1d6b-e43c-4b43-b4d8-2a6eddd229a3"
    },
    {
      "cell_type": "code",
      "source": "print(c)\nprint(d)",
      "metadata": {
        "trusted": true
      },
      "execution_count": 22,
      "outputs": [
        {
          "name": "stdout",
          "text": "[[0. 0.]\n [0. 0.]]\n[[1. 1. 1.]\n [1. 1. 1.]\n [1. 1. 1.]]\n",
          "output_type": "stream"
        }
      ],
      "id": "2de9ae8e-d02a-46ce-89d8-57c89274e010"
    },
    {
      "cell_type": "code",
      "source": "#função numpy para criar matriz identidade NxN\n\ne = np.eye(6) #dimensionando N\n\nprint(e)",
      "metadata": {
        "trusted": true
      },
      "execution_count": 24,
      "outputs": [
        {
          "name": "stdout",
          "text": "[[1. 0. 0. 0. 0. 0.]\n [0. 1. 0. 0. 0. 0.]\n [0. 0. 1. 0. 0. 0.]\n [0. 0. 0. 1. 0. 0.]\n [0. 0. 0. 0. 1. 0.]\n [0. 0. 0. 0. 0. 1.]]\n",
          "output_type": "stream"
        }
      ],
      "id": "d4086e7b-c014-476e-a8bc-278fee90487e"
    },
    {
      "cell_type": "code",
      "source": "#funções matemáticas interessantes do numpy\n\nprint(np.max(b)) #elemento máximo\nprint(np.min(b)) #elemento mínimo\nprint(np.sum(b)) #soma dos elementos\nprint(np.mean(b)) #média dos elementos\nprint(np.std(b)) #desvio padrão dos elementos\n\n",
      "metadata": {
        "trusted": true
      },
      "execution_count": 28,
      "outputs": [
        {
          "name": "stdout",
          "text": "6\n1\n21\n3.5\n1.707825127659933\n",
          "output_type": "stream"
        }
      ],
      "id": "525bc476-7f5e-41a1-8c01-1f5d9deee394"
    },
    {
      "cell_type": "code",
      "source": "",
      "metadata": {},
      "execution_count": null,
      "outputs": [],
      "id": "ffe75a09-3892-4c4d-af5b-d7d53aec26f1"
    }
  ]
}